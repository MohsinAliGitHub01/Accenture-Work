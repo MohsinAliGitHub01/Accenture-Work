{
 "cells": [
  {
   "cell_type": "code",
   "execution_count": 1,
   "id": "7ccb5cf3-33c4-4406-8739-bb49d78a648c",
   "metadata": {},
   "outputs": [
    {
     "name": "stdout",
     "output_type": "stream",
     "text": [
      "    Year  Month  Number of Posts\n",
      "0   2020      6              656\n",
      "1   2020      7             1542\n",
      "2   2020      8             1612\n",
      "3   2020      9             1501\n",
      "4   2020     10             1553\n",
      "5   2020     11             1514\n",
      "6   2020     12             1585\n",
      "7   2021      1             1573\n",
      "8   2021      2             1426\n",
      "9   2021      3             1502\n",
      "10  2021      4             1496\n",
      "11  2021      5             1606\n",
      "12  2021      6              818\n"
     ]
    }
   ],
   "source": [
    "import pandas as pd\n",
    "\n",
    "# Load the dataset\n",
    "data = pd.read_excel('cleaned_top_5_Categories.xlsx')\n",
    "\n",
    "# Convert 'Datetime' to datetime format\n",
    "data['Datetime'] = pd.to_datetime(data['Datetime'])\n",
    "\n",
    "# Extract Month and Year\n",
    "data['Month'] = data['Datetime'].dt.month\n",
    "data['Year'] = data['Datetime'].dt.year\n",
    "\n",
    "# Count the number of posts per month\n",
    "posts_per_month = data.groupby(['Year', 'Month']).size().reset_index(name='Number of Posts')\n",
    "\n",
    "# Display the results\n",
    "print(posts_per_month)\n",
    "\n"
   ]
  },
  {
   "cell_type": "code",
   "execution_count": 2,
   "id": "f6e32870-9632-4c84-80d7-2b1c1e3c7bda",
   "metadata": {},
   "outputs": [],
   "source": [
    "import openpyxl"
   ]
  },
  {
   "cell_type": "code",
   "execution_count": 7,
   "id": "fa320b40-efab-449a-b817-675e0b419726",
   "metadata": {},
   "outputs": [],
   "source": [
    "output_location = \"E:\\ML projects\\Accenture\\Posts_Per_Month.xlsx\""
   ]
  },
  {
   "cell_type": "code",
   "execution_count": 8,
   "id": "ab8a4194-d4a8-492a-8c19-5ce113b271d3",
   "metadata": {},
   "outputs": [
    {
     "data": {
      "text/plain": [
       "'E:\\\\ML projects\\\\Accenture\\\\Posts_Per_Month.xlsx'"
      ]
     },
     "execution_count": 8,
     "metadata": {},
     "output_type": "execute_result"
    }
   ],
   "source": [
    "with pd.ExcelWriter(output_location) as writer:\n",
    "    posts_per_month.to_excel(writer, sheet_name=\"Posts_Per_Month\", index=False)\n",
    "output_location"
   ]
  },
  {
   "cell_type": "code",
   "execution_count": null,
   "id": "9f227758-dcb3-44ef-adb1-bd64e405c09d",
   "metadata": {},
   "outputs": [],
   "source": []
  }
 ],
 "metadata": {
  "kernelspec": {
   "display_name": "Python 3 (ipykernel)",
   "language": "python",
   "name": "python3"
  },
  "language_info": {
   "codemirror_mode": {
    "name": "ipython",
    "version": 3
   },
   "file_extension": ".py",
   "mimetype": "text/x-python",
   "name": "python",
   "nbconvert_exporter": "python",
   "pygments_lexer": "ipython3",
   "version": "3.9.13"
  }
 },
 "nbformat": 4,
 "nbformat_minor": 5
}
